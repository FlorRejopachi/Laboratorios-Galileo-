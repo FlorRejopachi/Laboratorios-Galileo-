{
 "cells": [
  {
   "cell_type": "markdown",
   "id": "b6e5f48e-1d4c-420f-9b77-cd20360e71f6",
   "metadata": {},
   "source": [
    "# Laboratorio No. 3\n",
    "### Flor Rejopachi - 22000350"
   ]
  },
  {
   "cell_type": "markdown",
   "id": "c1402cfb-42c1-4842-913e-69d172a7d7a5",
   "metadata": {},
   "source": [
    "#### Parte No. 1 Numpy"
   ]
  },
  {
   "cell_type": "markdown",
   "id": "f88fa6e2-5fd5-40f2-9ea5-53b19fd7e657",
   "metadata": {
    "tags": []
   },
   "source": [
    "##### ¿Cuál es el tamaño en bytes de un array de 1000 elementos de tipo booleano?"
   ]
  },
  {
   "cell_type": "code",
   "execution_count": 5,
   "id": "ae3eff43-49cb-4d30-8b1b-76b1671ac129",
   "metadata": {
    "tags": []
   },
   "outputs": [
    {
     "name": "stdout",
     "output_type": "stream",
     "text": [
      "El tamaño en bytes del array de 1000 elementos booleanos es: 1000\n"
     ]
    }
   ],
   "source": [
    "import numpy as np\n",
    "\n",
    "# Crear array de 1000 elementos de tipo booleano \n",
    "array = np.full(1000, True, dtype=bool)\n",
    "\n",
    "# Calcular el tamaño en bytes del array\n",
    "sizebytes = array.nbytes\n",
    "\n",
    "print(\"El tamaño en bytes del array de 1000 elementos booleanos es:\", sizebytes)"
   ]
  },
  {
   "cell_type": "markdown",
   "id": "53acde59-22f0-4fa4-b4f0-74523572db85",
   "metadata": {},
   "source": [
    "#### Cree un array cuyos elementos sean los enteros pares en [1,100] y en orden decreciente. Muestre los 10 últimos por pantalla"
   ]
  },
  {
   "cell_type": "code",
   "execution_count": 6,
   "id": "1c8b3c69-ccc9-4333-8a41-7b820da09b6c",
   "metadata": {
    "tags": []
   },
   "outputs": [
    {
     "name": "stdout",
     "output_type": "stream",
     "text": [
      "Los últimos 10 elementos del array son: [20 18 16 14 12 10  8  6  4  2]\n"
     ]
    }
   ],
   "source": [
    "import numpy as np\n",
    "\n",
    "# Crear un array con los enteros pares en el rango de 1 a 100 en orden decreciente\n",
    "array_pares_decreciente = np.arange(100, 0, -2)\n",
    "\n",
    "# Mostrar los últimos 10 elementos del array por pantalla\n",
    "print(\"Los últimos 10 elementos del array son:\", array_pares_decreciente[-10:])"
   ]
  },
  {
   "cell_type": "markdown",
   "id": "44367fc8-a525-45fa-845a-99d24e70dc14",
   "metadata": {},
   "source": [
    "#### Dado el array... Seleccione con una instrucción el subarray de elementos"
   ]
  },
  {
   "cell_type": "code",
   "execution_count": 7,
   "id": "4e9cc59d-0d26-4f6c-ac22-781c71642c3d",
   "metadata": {
    "tags": []
   },
   "outputs": [
    {
     "name": "stdout",
     "output_type": "stream",
     "text": [
      "El subarray 0 3 7 4 es:\n",
      "[3 7 4]\n"
     ]
    }
   ],
   "source": [
    "import numpy as np\n",
    "\n",
    "# Definir el array\n",
    "array = np.array([\n",
    "    [2, 4, 5, 6],\n",
    "    [0, 3, 7, 4],\n",
    "    [8, 8, 5, 2],\n",
    "    [1, 5, 6, 1]\n",
    "])\n",
    "\n",
    "# Seleccionar el subarray 0 3 7 4\n",
    "subarray_1 = array[1, 1:4]\n",
    "\n",
    "print(\"El subarray 0 3 7 4 es:\")\n",
    "print(subarray_1)"
   ]
  },
  {
   "cell_type": "code",
   "execution_count": 8,
   "id": "6c7c5f17-4c11-4063-b2a6-5d6d192037a6",
   "metadata": {
    "tags": []
   },
   "outputs": [
    {
     "name": "stdout",
     "output_type": "stream",
     "text": [
      "El subarray 2 5 8 5 es:\n",
      "[2 5]\n"
     ]
    }
   ],
   "source": [
    "# Seleccionar el subarray 2 5 8 5\n",
    "subarray_2 = array[[0, 2], [0, 2]]\n",
    "\n",
    "print(\"El subarray 2 5 8 5 es:\")\n",
    "print(subarray_2)"
   ]
  },
  {
   "cell_type": "markdown",
   "id": "6d82812a-57f1-4def-93e6-75fb7d06a64e",
   "metadata": {},
   "source": [
    "#### Dados los arrays a = [1, 4, 2, 7] y b = [1, 3, 2, 9], obtenga la media aritmética de la diferencia (a-b)"
   ]
  },
  {
   "cell_type": "code",
   "execution_count": 12,
   "id": "be736515-8593-49d3-8eb2-ab8fee485ebd",
   "metadata": {
    "tags": []
   },
   "outputs": [
    {
     "name": "stdout",
     "output_type": "stream",
     "text": [
      "La media aritmética de la diferencia entre los elementos de a y b es: -0.25\n"
     ]
    }
   ],
   "source": [
    "# Definir arrays a y b\n",
    "a = np.array([1, 4, 2, 7])\n",
    "b = np.array([1, 3, 2, 9])\n",
    "\n",
    "# Calcular la diferencia entre a y b\n",
    "diferencia = a - b\n",
    "\n",
    "# Calcular la media aritmética de la diferencia\n",
    "media = np.mean(diferencia)\n",
    "\n",
    "print(\"La media aritmética de la diferencia entre los elementos de a y b es:\", media)"
   ]
  },
  {
   "cell_type": "markdown",
   "id": "ee82501b-c8b9-42bc-bd07-d1908caac056",
   "metadata": {},
   "source": [
    "#### Tengo valores de cordenadas (x, y) en las columnas del array... Agregue a este array las coordenadas (37.1, -3.6).Muestre en pantalla las dimensiones del nuevo array"
   ]
  },
  {
   "cell_type": "code",
   "execution_count": 11,
   "id": "69f8f71d-6f6c-4a32-95b1-e55927768112",
   "metadata": {
    "tags": []
   },
   "outputs": [
    {
     "name": "stdout",
     "output_type": "stream",
     "text": [
      "Las dimensiones del nuevo array son: (4, 2)\n"
     ]
    }
   ],
   "source": [
    "import numpy as np\n",
    "\n",
    "# Definir array\n",
    "coordenada = np.array([\n",
    "    [1.33, 4.5],\n",
    "    [30.0, 10.7],\n",
    "    [70.2, 0.5]\n",
    "])\n",
    "\n",
    "# Agregar las coordenadas (37.1, -3.6)\n",
    "nueva = np.append(coordenada, [[37.1, -3.6]], axis=0)\n",
    "\n",
    "# Mostrar las dimensiones del nuevo array\n",
    "print(\"Las dimensiones del nuevo array son:\", nueva.shape)"
   ]
  },
  {
   "cell_type": "markdown",
   "id": "448a4ae1-b968-4e75-90c3-40b1cd6a1ccf",
   "metadata": {},
   "source": [
    "#### Copie el array del ejercicio anterior. Traspóngalo (. Agregue ahora dos nuevos pares de coordenadas: (10.8,3.0) y (35.8, 12.0)."
   ]
  },
  {
   "cell_type": "code",
   "execution_count": 15,
   "id": "8d04fe0d-fb11-4050-8169-b07edfd4a8a5",
   "metadata": {
    "tags": []
   },
   "outputs": [
    {
     "name": "stdout",
     "output_type": "stream",
     "text": [
      "Las dimensiones son: (2, 5)\n"
     ]
    }
   ],
   "source": [
    "import numpy as np\n",
    "\n",
    "# Definir array inicial\n",
    "coordenadas = np.array([\n",
    "    [1.33, 4.5],\n",
    "    [30.0, 10.7],\n",
    "    [70.2, 0.5]\n",
    "])\n",
    "\n",
    "# Trasponer array\n",
    "coordenada_traspuesta = np.transpose(coordenadas)\n",
    "\n",
    "# Agregar dos nuevas coordenadas\n",
    "nueva_coordenada = np.append(coordenada_traspuesta, [[10.8, 3.0], [35.8, 12.0]], axis=1)\n",
    "\n",
    "# Mostrar las dimensiones\n",
    "print(\"Las dimensiones son:\", nueva_coordenada.shape)"
   ]
  },
  {
   "cell_type": "markdown",
   "id": "f748e57b-b054-4ac0-b803-532208e4f337",
   "metadata": {
    "tags": []
   },
   "source": [
    "#### Parte No. 2, Exploración y Minería de Datos"
   ]
  },
  {
   "cell_type": "markdown",
   "id": "6f09981b-bcd4-447c-99e2-7814dc92cded",
   "metadata": {
    "tags": []
   },
   "source": [
    "#### Con el dataset nucleospoblacion.csv adjunto al laboratorio, luego responda las siguientes preguntas usando pandas y matplotlib. 1) ¿Cuántos Municipios tienen más de 100000habitantes?"
   ]
  },
  {
   "cell_type": "code",
   "execution_count": 31,
   "id": "80ec05cd-d2a7-48fd-a8f9-35172124f04a",
   "metadata": {
    "tags": []
   },
   "outputs": [
    {
     "name": "stdout",
     "output_type": "stream",
     "text": [
      "Municipios con más de 100k habitantes: 62\n"
     ]
    }
   ],
   "source": [
    "import pandas as pd\n",
    "import matplotlib.pyplot as plt\n",
    "\n",
    "# Cargar datos\n",
    "data = pd.read_csv('nucleospoblacion.csv')\n",
    "\n",
    "# Filtrar los municipios con más de 100,000 habitantes\n",
    "municipios_mas_100k = data[data['Poblacion'] > 100000]\n",
    "\n",
    "# Contar cuántos municipios cumplen con el criterio\n",
    "num_municipios_mas_100k = len(municipios_mas_100k)\n",
    "\n",
    "print(\"Municipios con más de 100k habitantes:\", num_municipios_mas_100k)"
   ]
  },
  {
   "cell_type": "markdown",
   "id": "ee3530cf-e49c-485d-88e7-a662bbe33d1b",
   "metadata": {
    "tags": []
   },
   "source": [
    "#### Realice una gráfica de barras sobre la polbación de cada ciudad, ordenela de menor a mayo y responda: \n",
    "#### a. ¿Cuál es la segunda ciudad más poblada? \n",
    "#### b. ¿Qué posición ocupa Granada en el ranking de las ciudades más pobladas?"
   ]
  },
  {
   "cell_type": "code",
   "execution_count": 29,
   "id": "e74a3e94-2605-4359-8518-ae92f6c2a795",
   "metadata": {
    "tags": []
   },
   "outputs": [
    {
     "data": {
      "image/png": "[encoded data removed]",
      "text/plain": [
       "<Figure size 1200x800 with 1 Axes>"
      ]
     },
     "metadata": {},
     "output_type": "display_data"
    },
    {
     "name": "stdout",
     "output_type": "stream",
     "text": [
      "a. La segunda ciudad más poblada es: Barcelona\n",
      "b. Granada ocupa la posición número: 273\n"
     ]
    }
   ],
   "source": [
    "import pandas as pd\n",
    "import matplotlib.pyplot as plt\n",
    "\n",
    "# Cargar el conjunto de datos\n",
    "data = pd.read_csv('nucleospoblacion.csv')\n",
    "\n",
    "# Ordenar los datos por población de mayor a menor\n",
    "ciudades = data.sort_values(by='Poblacion', ascending= False).head(20)\n",
    "\n",
    "# Crear gráfica de barras\n",
    "plt.figure(figsize=(12, 8))\n",
    "plt.barh(ciudades['Municipio'], ciudades['Poblacion'], color='skyblue')\n",
    "plt.xlabel('Población')\n",
    "plt.ylabel('Ciudad')\n",
    "plt.title('Ciudades más pobladas')\n",
    "plt.grid(axis='x', linestyle='--', alpha=0.7)\n",
    "\n",
    "# Mostrar gráfica\n",
    "plt.tight_layout()\n",
    "plt.show()\n",
    "\n",
    "segunda_ciudad = ciudades.iloc[1]['Municipio']\n",
    "posicion_granada = tciudades[top_20_ciudades['Municipio'] == 'Granada'].index[0] + 1\n",
    "\n",
    "print(\"a. La segunda ciudad más poblada es:\", segunda_ciudad)\n",
    "print(\"b. Granada ocupa la posición número:\", posicion_granada)"
   ]
  },
  {
   "cell_type": "markdown",
   "id": "9a1b7d4a-1211-45fa-a185-642321bc27bc",
   "metadata": {},
   "source": [
    "#### ¿Cuántos municipios de Navarra tienen más de 5000 habitantes?"
   ]
  },
  {
   "cell_type": "code",
   "execution_count": 36,
   "id": "990e4d5c-582f-45b6-99e0-3f8358b53c57",
   "metadata": {
    "tags": []
   },
   "outputs": [
    {
     "name": "stdout",
     "output_type": "stream",
     "text": [
      "Cantidad de municipios de Navarra con más de 5000 habitantes: 11\n"
     ]
    }
   ],
   "source": [
    "# Filtrar municipios que pertenecen a Navarra\n",
    "municipios_navarra = data[data['Provincia'] == 'Navarra']\n",
    "\n",
    "# Contar cuántos municipios de Navarra tienen más de 5000 habitantes\n",
    "num_municipios_mas_5000 = len(municipios_navarra[municipios_navarra['Poblacion'] > 5000])\n",
    "\n",
    "print(\"Cantidad de municipios de Navarra con más de 5000 habitantes:\", num_municipios_mas_5000)"
   ]
  },
  {
   "cell_type": "markdown",
   "id": "4da2b914-1f16-422a-b838-9fbe974af3b0",
   "metadata": {},
   "source": [
    "#### ¿Cuál es el municipio situado más al Norte? (Usar el valor de la coordenada \"Y\" que representa la latitud en grados). Proporcione también la provincia a la que pertenece y su población"
   ]
  },
  {
   "cell_type": "code",
   "execution_count": 37,
   "id": "1017b222-5a98-4276-a136-72b0ca5c0fa3",
   "metadata": {
    "tags": []
   },
   "outputs": [
    {
     "name": "stdout",
     "output_type": "stream",
     "text": [
      "Municipio situado más al norte:\n",
      "Nombre: Viveiro\n",
      "Provincia: Lugo\n",
      "Población: 16211.0\n"
     ]
    }
   ],
   "source": [
    "# Encontrar el municipio situado más al norte\n",
    "norte = data.loc[data['Y'].idxmax()]\n",
    "\n",
    "print(\"Municipio situado más al norte:\")\n",
    "print(\"Nombre:\", norte['Municipio'])\n",
    "print(\"Provincia:\", norte['Provincia'])\n",
    "print(\"Población:\", norte['Poblacion'])"
   ]
  },
  {
   "cell_type": "markdown",
   "id": "ec6ad95e-23b8-4195-94f7-afa9deb3271d",
   "metadata": {},
   "source": [
    "#### Obtenga la media, mediana, desviación estándar, valor máximo y valor mínimo de la población de los municipios de la provincia de Granada"
   ]
  },
  {
   "cell_type": "code",
   "execution_count": 40,
   "id": "12c82289-e608-4917-9d38-e0245c7ea690",
   "metadata": {
    "tags": []
   },
   "outputs": [
    {
     "name": "stdout",
     "output_type": "stream",
     "text": [
      "Estadísticas de población para la provincia de Granada:\n",
      "Media: 30217.85\n",
      "Mediana: 17526.0\n",
      "Desviación estándar: 50355.49171459277\n",
      "Valor máximo: 239154.0\n",
      "Valor mínimo: 10386.0\n"
     ]
    }
   ],
   "source": [
    "municipios_granada = data[data['Provincia'] == 'Granada']\n",
    "\n",
    "# Estadísticas de la población\n",
    "media_poblacion = municipios_granada['Poblacion'].mean()\n",
    "mediana_poblacion = municipios_granada['Poblacion'].median()\n",
    "desviacion_estandar = municipios_granada['Poblacion'].std()\n",
    "max_poblacion = municipios_granada['Poblacion'].max()\n",
    "min_poblacion = municipios_granada['Poblacion'].min()\n",
    "\n",
    "print(\"Estadísticas de población para la provincia de Granada:\")\n",
    "print(\"Media:\", media_poblacion)\n",
    "print(\"Mediana:\", mediana_poblacion)\n",
    "print(\"Desviación estándar:\", desviacion_estandar)\n",
    "print(\"Valor máximo:\", max_poblacion)\n",
    "print(\"Valor mínimo:\", min_poblacion)"
   ]
  },
  {
   "cell_type": "markdown",
   "id": "61a68cae-e54f-4f44-b752-17c393bdc846",
   "metadata": {},
   "source": [
    "#### Realice un histograma con la población de los Municipios para cada una de las provincias"
   ]
  },
  {
   "cell_type": "code",
   "execution_count": 41,
   "id": "1d3ec759-1dc3-4508-9221-d32938c3bbe6",
   "metadata": {
    "tags": []
   },
   "outputs": [
    {
     "data": {
      "image/png": "[encoded data removed]",
      "text/plain": [
       "<Figure size 1200x800 with 1 Axes>"
      ]
     },
     "metadata": {},
     "output_type": "display_data"
    }
   ],
   "source": [
    "plt.figure(figsize=(12, 8))\n",
    "\n",
    "# Iterar sobre cada provincia y trazar un histograma\n",
    "for provincia, group_data in data.groupby('Provincia'):\n",
    "    plt.hist(group_data['Poblacion'], bins=20, alpha=0.7, label=provincia)\n",
    "\n",
    "# Añadir etiquetas y leyenda\n",
    "plt.xlabel('Población')\n",
    "plt.ylabel('Frecuencia')\n",
    "plt.title('Histograma de la población de los municipios por provincia')\n",
    "plt.legend()\n",
    "\n",
    "# Mostrar el histograma\n",
    "plt.grid(True)\n",
    "plt.tight_layout()\n",
    "plt.show()"
   ]
  },
  {
   "cell_type": "markdown",
   "id": "e65719c3-d479-421a-9af0-9c069366bbda",
   "metadata": {
    "tags": []
   },
   "source": [
    "#### Seleccione al azar cincuenta municipios diferentes de entre los diponibles en el archivo. Asegúrese de que no se repitan. ¿Luego calcule el promedio de la población y la desviación estándar de esto 50 municipios?"
   ]
  },
  {
   "cell_type": "code",
   "execution_count": 55,
   "id": "8627756d-bac5-4c93-9959-ec5e5bc4e71a",
   "metadata": {
    "tags": []
   },
   "outputs": [
    {
     "name": "stdout",
     "output_type": "stream",
     "text": [
      "Promedio de la población 50 municipios seleccionados al azar: 36000.82\n",
      "Desviación estándar 50 municipios seleccionados al azar: 44560.10668917447\n"
     ]
    }
   ],
   "source": [
    "# Seleccionar 50 municipios sin reemplazo\n",
    "aleatorios = data.sample(n=50, replace=False, random_state=42)\n",
    "\n",
    "# Calcular el promedio y la desviación estándar de la población de estos municipios\n",
    "promedio = aleatorios['Poblacion'].mean()\n",
    "desviacion = aleatorios['Poblacion'].std()\n",
    "\n",
    "print(\"Promedio de la población 50 municipios seleccionados al azar:\", promedio)\n",
    "print(\"Desviación estándar 50 municipios seleccionados al azar:\", desviacion)"
   ]
  },
  {
   "cell_type": "markdown",
   "id": "424ae7b0-3e6d-4889-a25b-451b6b52662b",
   "metadata": {},
   "source": [
    "#### Determine los nombres de los Municipios más cercano y más lejano a Madrid. Para ello debe calcular la distancia en todos ellos y Madrid. No considere a Madrid en el análisis ya que la distancia sería cero"
   ]
  },
  {
   "cell_type": "code",
   "execution_count": 51,
   "id": "82a3a489-52a5-4543-9863-a515b0e16f30",
   "metadata": {
    "tags": []
   },
   "outputs": [
    {
     "ename": "NameError",
     "evalue": "name 'geodesic' is not defined",
     "output_type": "error",
     "traceback": [
      "\u001b[1;31m---------------------------------------------------------------------------\u001b[0m",
      "\u001b[1;31mNameError\u001b[0m                                 Traceback (most recent call last)",
      "Cell \u001b[1;32mIn[51], line 8\u001b[0m\n\u001b[0;32m      6\u001b[0m \u001b[38;5;28;01mfor\u001b[39;00m index, row \u001b[38;5;129;01min\u001b[39;00m data\u001b[38;5;241m.\u001b[39miterrows():\n\u001b[0;32m      7\u001b[0m     municipio_coords \u001b[38;5;241m=\u001b[39m (row[\u001b[38;5;124m'\u001b[39m\u001b[38;5;124mY\u001b[39m\u001b[38;5;124m'\u001b[39m], row[\u001b[38;5;124m'\u001b[39m\u001b[38;5;124mX\u001b[39m\u001b[38;5;124m'\u001b[39m])\n\u001b[1;32m----> 8\u001b[0m     distancia \u001b[38;5;241m=\u001b[39m geodesic(municipio_coords, madrid_coords)\u001b[38;5;241m.\u001b[39mkilometers\n\u001b[0;32m      9\u001b[0m     distancias\u001b[38;5;241m.\u001b[39mappend(distancia)\n\u001b[0;32m     11\u001b[0m \u001b[38;5;66;03m# Agregar las distancias al DataFrame\u001b[39;00m\n",
      "\u001b[1;31mNameError\u001b[0m: name 'geodesic' is not defined"
     ]
    }
   ],
   "source": [
    "# Coordenadas de Madrid\n",
    "madrid_coords = (40.416775, -3.703790)\n",
    "\n",
    "# Calcular la distancia entre cada municipio y Madrid\n",
    "distancias = []\n",
    "for index, row in data.iterrows():\n",
    "    municipio_coords = (row['Y'], row['X'])\n",
    "    distancia = geodesic(municipio_coords, madrid_coords).kilometers\n",
    "    distancias.append(distancia)\n",
    "\n",
    "# Agregar las distancias al DataFrame\n",
    "data['Distancia_a_Madrid'] = distancias\n",
    "\n",
    "# Encontrar el municipio más cercano y más lejano a Madrid\n",
    "municipio_mas_cercano = data.loc[data['Distancia_a_Madrid'].idxmin()]\n",
    "municipio_mas_lejano = data.loc[data['Distancia_a_Madrid'].idxmax()]\n",
    "\n",
    "# Mostrar los resultados\n",
    "print(\"Municipio más cercano a Madrid:\", municipio_mas_cercano['Municipio'], \"Distancia:\", municipio_mas_cercano['Distancia_a_Madrid'], \"km\")\n",
    "print(\"Municipio más lejano a Madrid:\", municipio_mas_lejano['Municipio'], \"Distancia:\", municipio_mas_lejano['Distancia_a_Madrid'], \"km\")"
   ]
  },
  {
   "cell_type": "markdown",
   "id": "577566b7-db95-417b-88f3-c1e4e24d7256",
   "metadata": {},
   "source": [
    "#### Exploración"
   ]
  },
  {
   "cell_type": "code",
   "execution_count": 33,
   "id": "861870b5-12dc-4fbb-bd9b-cd30c848ba77",
   "metadata": {
    "tags": []
   },
   "outputs": [
    {
     "data": {
      "text/html": [
       "<div>\n",
       "<style scoped>\n",
       "    .dataframe tbody tr th:only-of-type {\n",
       "        vertical-align: middle;\n",
       "    }\n",
       "\n",
       "    .dataframe tbody tr th {\n",
       "        vertical-align: top;\n",
       "    }\n",
       "\n",
       "    .dataframe thead th {\n",
       "        text-align: right;\n",
       "    }\n",
       "</style>\n",
       "<table border=\"1\" class=\"dataframe\">\n",
       "  <thead>\n",
       "    <tr style=\"text-align: right;\">\n",
       "      <th></th>\n",
       "      <th>FID</th>\n",
       "      <th>OBJECTID</th>\n",
       "      <th>Texto</th>\n",
       "      <th>Poblacion</th>\n",
       "      <th>CodMun</th>\n",
       "      <th>Municipio</th>\n",
       "      <th>CodProvin</th>\n",
       "      <th>Provincia</th>\n",
       "      <th>X</th>\n",
       "      <th>Y</th>\n",
       "    </tr>\n",
       "  </thead>\n",
       "  <tbody>\n",
       "    <tr>\n",
       "      <th>0</th>\n",
       "      <td>0</td>\n",
       "      <td>1</td>\n",
       "      <td>Agüimes</td>\n",
       "      <td>29431.0</td>\n",
       "      <td>35002</td>\n",
       "      <td>Agüimes</td>\n",
       "      <td>35</td>\n",
       "      <td>Las Palmas</td>\n",
       "      <td>-15.446012</td>\n",
       "      <td>27.900542</td>\n",
       "    </tr>\n",
       "    <tr>\n",
       "      <th>1</th>\n",
       "      <td>1</td>\n",
       "      <td>2</td>\n",
       "      <td>Antigua</td>\n",
       "      <td>10458.0</td>\n",
       "      <td>35003</td>\n",
       "      <td>Antigua</td>\n",
       "      <td>35</td>\n",
       "      <td>Las Palmas</td>\n",
       "      <td>-14.013301</td>\n",
       "      <td>28.418966</td>\n",
       "    </tr>\n",
       "    <tr>\n",
       "      <th>2</th>\n",
       "      <td>2</td>\n",
       "      <td>3</td>\n",
       "      <td>Arrecife</td>\n",
       "      <td>58156.0</td>\n",
       "      <td>35004</td>\n",
       "      <td>Arrecife</td>\n",
       "      <td>35</td>\n",
       "      <td>Las Palmas</td>\n",
       "      <td>-13.551451</td>\n",
       "      <td>28.960649</td>\n",
       "    </tr>\n",
       "    <tr>\n",
       "      <th>3</th>\n",
       "      <td>3</td>\n",
       "      <td>4</td>\n",
       "      <td>Arucas</td>\n",
       "      <td>36745.0</td>\n",
       "      <td>35006</td>\n",
       "      <td>Arucas</td>\n",
       "      <td>35</td>\n",
       "      <td>Las Palmas</td>\n",
       "      <td>-15.521512</td>\n",
       "      <td>28.117496</td>\n",
       "    </tr>\n",
       "    <tr>\n",
       "      <th>4</th>\n",
       "      <td>4</td>\n",
       "      <td>5</td>\n",
       "      <td>Gáldar</td>\n",
       "      <td>24473.0</td>\n",
       "      <td>35009</td>\n",
       "      <td>Gáldar</td>\n",
       "      <td>35</td>\n",
       "      <td>Las Palmas</td>\n",
       "      <td>-15.654111</td>\n",
       "      <td>28.143873</td>\n",
       "    </tr>\n",
       "  </tbody>\n",
       "</table>\n",
       "</div>"
      ],
      "text/plain": [
       "   FID  OBJECTID     Texto  Poblacion  CodMun Municipio  CodProvin  \\\n",
       "0    0         1   Agüimes    29431.0   35002   Agüimes         35   \n",
       "1    1         2   Antigua    10458.0   35003   Antigua         35   \n",
       "2    2         3  Arrecife    58156.0   35004  Arrecife         35   \n",
       "3    3         4    Arucas    36745.0   35006    Arucas         35   \n",
       "4    4         5    Gáldar    24473.0   35009    Gáldar         35   \n",
       "\n",
       "    Provincia          X          Y  \n",
       "0  Las Palmas -15.446012  27.900542  \n",
       "1  Las Palmas -14.013301  28.418966  \n",
       "2  Las Palmas -13.551451  28.960649  \n",
       "3  Las Palmas -15.521512  28.117496  \n",
       "4  Las Palmas -15.654111  28.143873  "
      ]
     },
     "execution_count": 33,
     "metadata": {},
     "output_type": "execute_result"
    }
   ],
   "source": [
    "data.head()"
   ]
  },
  {
   "cell_type": "code",
   "execution_count": 35,
   "id": "774d71be-89d4-455b-8c01-603312cb1623",
   "metadata": {
    "tags": []
   },
   "outputs": [
    {
     "data": {
      "text/plain": [
       "array(['Las Palmas', 'Santa Cruz de Tenerife', 'Badajoz', 'Cáceres',\n",
       "       'Cádiz', 'A Coruña', 'Huelva', 'León', 'Lugo', 'Ourense',\n",
       "       'Asturias', 'Pontevedra', 'Salamanca', 'Sevilla', 'Albacete',\n",
       "       'Alacant/Alicante', 'Álava', 'Almería', 'Ávila', 'Burgos',\n",
       "       'Castelló/Castellón', 'Ciudad Real', 'Córdoba', 'Cuenca',\n",
       "       'Granada', 'Guadalajara', 'Guipúzcoa', 'Huesca', 'Jaén',\n",
       "       'La Rioja', 'Madrid', 'Málaga', 'Murcia', 'Navarra', 'Palencia',\n",
       "       'Cantabria', 'Segovia', 'Soria', 'Teruel', 'Toledo',\n",
       "       'València/Valencia', 'Valladolid', 'Vizcaya', 'Zamora', 'Zaragoza',\n",
       "       'Ceuta', 'Illes Balears', 'Barcelona', 'Girona', 'Lleida',\n",
       "       'Tarragona', 'Melilla'], dtype=object)"
      ]
     },
     "execution_count": 35,
     "metadata": {},
     "output_type": "execute_result"
    }
   ],
   "source": [
    "data[\"Provincia\"].unique()"
   ]
  },
  {
   "cell_type": "code",
   "execution_count": 50,
   "id": "c4690a3c-854e-4058-be4d-c736d0f7e90e",
   "metadata": {
    "tags": []
   },
   "outputs": [
    {
     "data": {
      "text/html": [
       "<div>\n",
       "<style scoped>\n",
       "    .dataframe tbody tr th:only-of-type {\n",
       "        vertical-align: middle;\n",
       "    }\n",
       "\n",
       "    .dataframe tbody tr th {\n",
       "        vertical-align: top;\n",
       "    }\n",
       "\n",
       "    .dataframe thead th {\n",
       "        text-align: right;\n",
       "    }\n",
       "</style>\n",
       "<table border=\"1\" class=\"dataframe\">\n",
       "  <thead>\n",
       "    <tr style=\"text-align: right;\">\n",
       "      <th></th>\n",
       "      <th>X</th>\n",
       "      <th>Y</th>\n",
       "      <th>Provincia</th>\n",
       "    </tr>\n",
       "  </thead>\n",
       "  <tbody>\n",
       "    <tr>\n",
       "      <th>335</th>\n",
       "      <td>-3.369251</td>\n",
       "      <td>40.480332</td>\n",
       "      <td>Madrid</td>\n",
       "    </tr>\n",
       "    <tr>\n",
       "      <th>336</th>\n",
       "      <td>-3.632402</td>\n",
       "      <td>40.541042</td>\n",
       "      <td>Madrid</td>\n",
       "    </tr>\n",
       "    <tr>\n",
       "      <th>337</th>\n",
       "      <td>-3.828495</td>\n",
       "      <td>40.351570</td>\n",
       "      <td>Madrid</td>\n",
       "    </tr>\n",
       "    <tr>\n",
       "      <th>338</th>\n",
       "      <td>-3.497715</td>\n",
       "      <td>40.595960</td>\n",
       "      <td>Madrid</td>\n",
       "    </tr>\n",
       "    <tr>\n",
       "      <th>339</th>\n",
       "      <td>-4.023786</td>\n",
       "      <td>40.658757</td>\n",
       "      <td>Madrid</td>\n",
       "    </tr>\n",
       "    <tr>\n",
       "      <th>340</th>\n",
       "      <td>-3.602797</td>\n",
       "      <td>40.033401</td>\n",
       "      <td>Madrid</td>\n",
       "    </tr>\n",
       "    <tr>\n",
       "      <th>341</th>\n",
       "      <td>-3.439112</td>\n",
       "      <td>40.300734</td>\n",
       "      <td>Madrid</td>\n",
       "    </tr>\n",
       "    <tr>\n",
       "      <th>342</th>\n",
       "      <td>-3.919355</td>\n",
       "      <td>40.268198</td>\n",
       "      <td>Madrid</td>\n",
       "    </tr>\n",
       "    <tr>\n",
       "      <th>343</th>\n",
       "      <td>-3.875806</td>\n",
       "      <td>40.407835</td>\n",
       "      <td>Madrid</td>\n",
       "    </tr>\n",
       "    <tr>\n",
       "      <th>344</th>\n",
       "      <td>-3.616501</td>\n",
       "      <td>40.158535</td>\n",
       "      <td>Madrid</td>\n",
       "    </tr>\n",
       "    <tr>\n",
       "      <th>345</th>\n",
       "      <td>-3.766650</td>\n",
       "      <td>40.657651</td>\n",
       "      <td>Madrid</td>\n",
       "    </tr>\n",
       "    <tr>\n",
       "      <th>346</th>\n",
       "      <td>-3.992725</td>\n",
       "      <td>40.643029</td>\n",
       "      <td>Madrid</td>\n",
       "    </tr>\n",
       "    <tr>\n",
       "      <th>347</th>\n",
       "      <td>-3.565567</td>\n",
       "      <td>40.425937</td>\n",
       "      <td>Madrid</td>\n",
       "    </tr>\n",
       "    <tr>\n",
       "      <th>348</th>\n",
       "      <td>-4.126986</td>\n",
       "      <td>40.584962</td>\n",
       "      <td>Madrid</td>\n",
       "    </tr>\n",
       "    <tr>\n",
       "      <th>349</th>\n",
       "      <td>-3.790853</td>\n",
       "      <td>40.282219</td>\n",
       "      <td>Madrid</td>\n",
       "    </tr>\n",
       "    <tr>\n",
       "      <th>350</th>\n",
       "      <td>-4.003986</td>\n",
       "      <td>40.578376</td>\n",
       "      <td>Madrid</td>\n",
       "    </tr>\n",
       "    <tr>\n",
       "      <th>351</th>\n",
       "      <td>-3.729352</td>\n",
       "      <td>40.304038</td>\n",
       "      <td>Madrid</td>\n",
       "    </tr>\n",
       "    <tr>\n",
       "      <th>352</th>\n",
       "      <td>-4.086697</td>\n",
       "      <td>40.673506</td>\n",
       "      <td>Madrid</td>\n",
       "    </tr>\n",
       "    <tr>\n",
       "      <th>353</th>\n",
       "      <td>-3.828447</td>\n",
       "      <td>40.250253</td>\n",
       "      <td>Madrid</td>\n",
       "    </tr>\n",
       "    <tr>\n",
       "      <th>354</th>\n",
       "      <td>-3.766556</td>\n",
       "      <td>40.331744</td>\n",
       "      <td>Madrid</td>\n",
       "    </tr>\n",
       "    <tr>\n",
       "      <th>355</th>\n",
       "      <td>-3.703797</td>\n",
       "      <td>40.416630</td>\n",
       "      <td>Madrid</td>\n",
       "    </tr>\n",
       "    <tr>\n",
       "      <th>356</th>\n",
       "      <td>-3.874115</td>\n",
       "      <td>40.472100</td>\n",
       "      <td>Madrid</td>\n",
       "    </tr>\n",
       "    <tr>\n",
       "      <th>357</th>\n",
       "      <td>-3.329082</td>\n",
       "      <td>40.553751</td>\n",
       "      <td>Madrid</td>\n",
       "    </tr>\n",
       "    <tr>\n",
       "      <th>358</th>\n",
       "      <td>-3.488471</td>\n",
       "      <td>40.396791</td>\n",
       "      <td>Madrid</td>\n",
       "    </tr>\n",
       "    <tr>\n",
       "      <th>359</th>\n",
       "      <td>-3.972798</td>\n",
       "      <td>40.681314</td>\n",
       "      <td>Madrid</td>\n",
       "    </tr>\n",
       "    <tr>\n",
       "      <th>360</th>\n",
       "      <td>-3.864889</td>\n",
       "      <td>40.323555</td>\n",
       "      <td>Madrid</td>\n",
       "    </tr>\n",
       "    <tr>\n",
       "      <th>361</th>\n",
       "      <td>-4.014781</td>\n",
       "      <td>40.288473</td>\n",
       "      <td>Madrid</td>\n",
       "    </tr>\n",
       "    <tr>\n",
       "      <th>362</th>\n",
       "      <td>-3.531470</td>\n",
       "      <td>40.504919</td>\n",
       "      <td>Madrid</td>\n",
       "    </tr>\n",
       "    <tr>\n",
       "      <th>363</th>\n",
       "      <td>-3.770869</td>\n",
       "      <td>40.237821</td>\n",
       "      <td>Madrid</td>\n",
       "    </tr>\n",
       "    <tr>\n",
       "      <th>364</th>\n",
       "      <td>-3.698250</td>\n",
       "      <td>40.243182</td>\n",
       "      <td>Madrid</td>\n",
       "    </tr>\n",
       "    <tr>\n",
       "      <th>365</th>\n",
       "      <td>-3.815816</td>\n",
       "      <td>40.435940</td>\n",
       "      <td>Madrid</td>\n",
       "    </tr>\n",
       "    <tr>\n",
       "      <th>366</th>\n",
       "      <td>-3.519094</td>\n",
       "      <td>40.330279</td>\n",
       "      <td>Madrid</td>\n",
       "    </tr>\n",
       "    <tr>\n",
       "      <th>367</th>\n",
       "      <td>-3.874573</td>\n",
       "      <td>40.491952</td>\n",
       "      <td>Madrid</td>\n",
       "    </tr>\n",
       "    <tr>\n",
       "      <th>368</th>\n",
       "      <td>-3.617431</td>\n",
       "      <td>40.678939</td>\n",
       "      <td>Madrid</td>\n",
       "    </tr>\n",
       "    <tr>\n",
       "      <th>369</th>\n",
       "      <td>-3.535006</td>\n",
       "      <td>40.425325</td>\n",
       "      <td>Madrid</td>\n",
       "    </tr>\n",
       "    <tr>\n",
       "      <th>370</th>\n",
       "      <td>-4.145088</td>\n",
       "      <td>40.592541</td>\n",
       "      <td>Madrid</td>\n",
       "    </tr>\n",
       "    <tr>\n",
       "      <th>371</th>\n",
       "      <td>-3.570049</td>\n",
       "      <td>40.207712</td>\n",
       "      <td>Madrid</td>\n",
       "    </tr>\n",
       "    <tr>\n",
       "      <th>372</th>\n",
       "      <td>-3.626719</td>\n",
       "      <td>40.547055</td>\n",
       "      <td>Madrid</td>\n",
       "    </tr>\n",
       "    <tr>\n",
       "      <th>373</th>\n",
       "      <td>-3.478990</td>\n",
       "      <td>40.459156</td>\n",
       "      <td>Madrid</td>\n",
       "    </tr>\n",
       "    <tr>\n",
       "      <th>374</th>\n",
       "      <td>-3.931356</td>\n",
       "      <td>40.576498</td>\n",
       "      <td>Madrid</td>\n",
       "    </tr>\n",
       "    <tr>\n",
       "      <th>375</th>\n",
       "      <td>-4.067051</td>\n",
       "      <td>40.502164</td>\n",
       "      <td>Madrid</td>\n",
       "    </tr>\n",
       "    <tr>\n",
       "      <th>376</th>\n",
       "      <td>-3.678815</td>\n",
       "      <td>40.188899</td>\n",
       "      <td>Madrid</td>\n",
       "    </tr>\n",
       "    <tr>\n",
       "      <th>377</th>\n",
       "      <td>-3.488275</td>\n",
       "      <td>40.366332</td>\n",
       "      <td>Madrid</td>\n",
       "    </tr>\n",
       "    <tr>\n",
       "      <th>378</th>\n",
       "      <td>-4.003408</td>\n",
       "      <td>40.447753</td>\n",
       "      <td>Madrid</td>\n",
       "    </tr>\n",
       "    <tr>\n",
       "      <th>379</th>\n",
       "      <td>-3.963181</td>\n",
       "      <td>40.491248</td>\n",
       "      <td>Madrid</td>\n",
       "    </tr>\n",
       "    <tr>\n",
       "      <th>380</th>\n",
       "      <td>-3.896484</td>\n",
       "      <td>40.357649</td>\n",
       "      <td>Madrid</td>\n",
       "    </tr>\n",
       "    <tr>\n",
       "      <th>381</th>\n",
       "      <td>-3.704206</td>\n",
       "      <td>40.604905</td>\n",
       "      <td>Madrid</td>\n",
       "    </tr>\n",
       "    <tr>\n",
       "      <th>777</th>\n",
       "      <td>-3.896959</td>\n",
       "      <td>40.431700</td>\n",
       "      <td>Madrid</td>\n",
       "    </tr>\n",
       "    <tr>\n",
       "      <th>778</th>\n",
       "      <td>-4.011078</td>\n",
       "      <td>40.628799</td>\n",
       "      <td>Madrid</td>\n",
       "    </tr>\n",
       "    <tr>\n",
       "      <th>779</th>\n",
       "      <td>-3.836715</td>\n",
       "      <td>40.299113</td>\n",
       "      <td>Madrid</td>\n",
       "    </tr>\n",
       "    <tr>\n",
       "      <th>780</th>\n",
       "      <td>-3.736771</td>\n",
       "      <td>40.327270</td>\n",
       "      <td>Madrid</td>\n",
       "    </tr>\n",
       "    <tr>\n",
       "      <th>781</th>\n",
       "      <td>-3.780326</td>\n",
       "      <td>40.358067</td>\n",
       "      <td>Madrid</td>\n",
       "    </tr>\n",
       "    <tr>\n",
       "      <th>782</th>\n",
       "      <td>-3.922183</td>\n",
       "      <td>40.311077</td>\n",
       "      <td>Madrid</td>\n",
       "    </tr>\n",
       "    <tr>\n",
       "      <th>783</th>\n",
       "      <td>-3.783853</td>\n",
       "      <td>40.428764</td>\n",
       "      <td>Madrid</td>\n",
       "    </tr>\n",
       "    <tr>\n",
       "      <th>784</th>\n",
       "      <td>-3.543108</td>\n",
       "      <td>40.368431</td>\n",
       "      <td>Madrid</td>\n",
       "    </tr>\n",
       "    <tr>\n",
       "      <th>785</th>\n",
       "      <td>-3.893587</td>\n",
       "      <td>40.551842</td>\n",
       "      <td>Madrid</td>\n",
       "    </tr>\n",
       "  </tbody>\n",
       "</table>\n",
       "</div>"
      ],
      "text/plain": [
       "            X          Y Provincia\n",
       "335 -3.369251  40.480332    Madrid\n",
       "336 -3.632402  40.541042    Madrid\n",
       "337 -3.828495  40.351570    Madrid\n",
       "338 -3.497715  40.595960    Madrid\n",
       "339 -4.023786  40.658757    Madrid\n",
       "340 -3.602797  40.033401    Madrid\n",
       "341 -3.439112  40.300734    Madrid\n",
       "342 -3.919355  40.268198    Madrid\n",
       "343 -3.875806  40.407835    Madrid\n",
       "344 -3.616501  40.158535    Madrid\n",
       "345 -3.766650  40.657651    Madrid\n",
       "346 -3.992725  40.643029    Madrid\n",
       "347 -3.565567  40.425937    Madrid\n",
       "348 -4.126986  40.584962    Madrid\n",
       "349 -3.790853  40.282219    Madrid\n",
       "350 -4.003986  40.578376    Madrid\n",
       "351 -3.729352  40.304038    Madrid\n",
       "352 -4.086697  40.673506    Madrid\n",
       "353 -3.828447  40.250253    Madrid\n",
       "354 -3.766556  40.331744    Madrid\n",
       "355 -3.703797  40.416630    Madrid\n",
       "356 -3.874115  40.472100    Madrid\n",
       "357 -3.329082  40.553751    Madrid\n",
       "358 -3.488471  40.396791    Madrid\n",
       "359 -3.972798  40.681314    Madrid\n",
       "360 -3.864889  40.323555    Madrid\n",
       "361 -4.014781  40.288473    Madrid\n",
       "362 -3.531470  40.504919    Madrid\n",
       "363 -3.770869  40.237821    Madrid\n",
       "364 -3.698250  40.243182    Madrid\n",
       "365 -3.815816  40.435940    Madrid\n",
       "366 -3.519094  40.330279    Madrid\n",
       "367 -3.874573  40.491952    Madrid\n",
       "368 -3.617431  40.678939    Madrid\n",
       "369 -3.535006  40.425325    Madrid\n",
       "370 -4.145088  40.592541    Madrid\n",
       "371 -3.570049  40.207712    Madrid\n",
       "372 -3.626719  40.547055    Madrid\n",
       "373 -3.478990  40.459156    Madrid\n",
       "374 -3.931356  40.576498    Madrid\n",
       "375 -4.067051  40.502164    Madrid\n",
       "376 -3.678815  40.188899    Madrid\n",
       "377 -3.488275  40.366332    Madrid\n",
       "378 -4.003408  40.447753    Madrid\n",
       "379 -3.963181  40.491248    Madrid\n",
       "380 -3.896484  40.357649    Madrid\n",
       "381 -3.704206  40.604905    Madrid\n",
       "777 -3.896959  40.431700    Madrid\n",
       "778 -4.011078  40.628799    Madrid\n",
       "779 -3.836715  40.299113    Madrid\n",
       "780 -3.736771  40.327270    Madrid\n",
       "781 -3.780326  40.358067    Madrid\n",
       "782 -3.922183  40.311077    Madrid\n",
       "783 -3.783853  40.428764    Madrid\n",
       "784 -3.543108  40.368431    Madrid\n",
       "785 -3.893587  40.551842    Madrid"
      ]
     },
     "execution_count": 50,
     "metadata": {},
     "output_type": "execute_result"
    }
   ],
   "source": [
    "seleccionadas = data.loc[(data['Provincia'] == 'Madrid'), ['X', 'Y', 'Provincia']]\n",
    "seleccionadas"
   ]
  },
  {
   "cell_type": "code",
   "execution_count": null,
   "id": "8a815a8f-1124-4091-8052-45ae56d700ce",
   "metadata": {},
   "outputs": [],
   "source": []
  }
 ],
 "metadata": {
  "kernelspec": {
   "display_name": "Python 3 (ipykernel)",
   "language": "python",
   "name": "python3"
  },
  "language_info": {
   "codemirror_mode": {
    "name": "ipython",
    "version": 3
   },
   "file_extension": ".py",
   "mimetype": "text/x-python",
   "name": "python",
   "nbconvert_exporter": "python",
   "pygments_lexer": "ipython3",
   "version": "3.11.5"
  }
 },
 "nbformat": 4,
 "nbformat_minor": 5
}
